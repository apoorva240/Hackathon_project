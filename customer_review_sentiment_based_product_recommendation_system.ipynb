{
  "nbformat": 4,
  "nbformat_minor": 0,
  "metadata": {
    "colab": {
      "provenance": []
    },
    "kernelspec": {
      "name": "python3",
      "display_name": "Python 3"
    },
    "language_info": {
      "name": "python"
    }
  },
  "cells": [
    {
      "cell_type": "code",
      "source": [
        "import pandas as pd"
      ],
      "metadata": {
        "id": "MR_sYmx5YDws"
      },
      "execution_count": 75,
      "outputs": []
    },
    {
      "cell_type": "code",
      "source": [
        "df = pd.read_csv('review.tsv',sep='\\t')"
      ],
      "metadata": {
        "id": "jlLbqNxxYFgp"
      },
      "execution_count": 76,
      "outputs": []
    },
    {
      "cell_type": "code",
      "source": [
        "df.columns"
      ],
      "metadata": {
        "colab": {
          "base_uri": "https://localhost:8080/"
        },
        "id": "aQty9ScbYLmh",
        "outputId": "6c902a8e-ebcc-4684-85d7-03f09d8c922e"
      },
      "execution_count": 77,
      "outputs": [
        {
          "output_type": "execute_result",
          "data": {
            "text/plain": [
              "Index(['marketplace', 'customer_id', 'review_id', 'product_id',\n",
              "       'product_parent', 'product_title', 'product_category', 'star_rating',\n",
              "       'helpful_votes', 'total_votes', 'vine', 'verified_purchase',\n",
              "       'review_headline', 'review_body', 'review_date'],\n",
              "      dtype='object')"
            ]
          },
          "metadata": {},
          "execution_count": 77
        }
      ]
    },
    {
      "cell_type": "code",
      "source": [
        "df= df[['customer_id','product_id','product_title','review_body']]"
      ],
      "metadata": {
        "id": "cRhUuUmMYOxq"
      },
      "execution_count": 78,
      "outputs": []
    },
    {
      "cell_type": "code",
      "source": [
        "df.dropna(inplace=True)"
      ],
      "metadata": {
        "id": "WQJHQW0zYiox"
      },
      "execution_count": 79,
      "outputs": []
    },
    {
      "cell_type": "code",
      "source": [
        "#removing punctuations\n",
        "import string\n",
        "def depunc(para):\n",
        "  list1=[c for c in para if c not in string.punctuation and c not in list('0123456789')]\n",
        "  return ''.join(list1)"
      ],
      "metadata": {
        "id": "ggWtr3IeYt2m"
      },
      "execution_count": 80,
      "outputs": []
    },
    {
      "cell_type": "code",
      "source": [
        "df['review_body'] = df['review_body'].apply(depunc)"
      ],
      "metadata": {
        "id": "KJFZwm5bZK_p"
      },
      "execution_count": 81,
      "outputs": []
    },
    {
      "cell_type": "code",
      "source": [
        "import nltk\n",
        "nltk.download('stopwords')\n",
        "from nltk.corpus import stopwords\n",
        "stop_words = set(stopwords.words(\"english\"))\n",
        "from nltk.tokenize import word_tokenize\n",
        "nltk.download('punkt')\n",
        "nltk.download('wordnet')"
      ],
      "metadata": {
        "colab": {
          "base_uri": "https://localhost:8080/"
        },
        "id": "B47oawR0ZRdZ",
        "outputId": "28200352-5352-4e34-df8d-ac7db58f92b2"
      },
      "execution_count": 82,
      "outputs": [
        {
          "output_type": "stream",
          "name": "stderr",
          "text": [
            "[nltk_data] Downloading package stopwords to /root/nltk_data...\n",
            "[nltk_data]   Package stopwords is already up-to-date!\n",
            "[nltk_data] Downloading package punkt to /root/nltk_data...\n",
            "[nltk_data]   Package punkt is already up-to-date!\n",
            "[nltk_data] Downloading package wordnet to /root/nltk_data...\n",
            "[nltk_data]   Package wordnet is already up-to-date!\n"
          ]
        },
        {
          "output_type": "execute_result",
          "data": {
            "text/plain": [
              "True"
            ]
          },
          "metadata": {},
          "execution_count": 82
        }
      ]
    },
    {
      "cell_type": "code",
      "source": [
        "def tokenize(para):\n",
        "  tokens = word_tokenize(para)\n",
        "  return tokens"
      ],
      "metadata": {
        "id": "_7xHWObkZdzW"
      },
      "execution_count": 83,
      "outputs": []
    },
    {
      "cell_type": "code",
      "source": [
        "df['review_body'] = df['review_body'].apply(tokenize)"
      ],
      "metadata": {
        "id": "Hzygd8N6Zi2Z"
      },
      "execution_count": 84,
      "outputs": []
    },
    {
      "cell_type": "code",
      "source": [
        "from nltk.stem import WordNetLemmatizer\n",
        "lemmatizer = WordNetLemmatizer()\n",
        "def remove_stopwords(token_list):\n",
        "  list1 = [word for word in token_list if word not in stop_words and word is not 'br']\n",
        "  list1 = [lemmatizer.lemmatize(word) for word in list1]\n",
        "  return ' '.join(list1)"
      ],
      "metadata": {
        "id": "FnvYEuf3Zm4t",
        "colab": {
          "base_uri": "https://localhost:8080/"
        },
        "outputId": "882ebcd2-2f93-4777-9c82-23a673052ea9"
      },
      "execution_count": 85,
      "outputs": [
        {
          "output_type": "stream",
          "name": "stderr",
          "text": [
            "<>:4: SyntaxWarning: \"is not\" with a literal. Did you mean \"!=\"?\n",
            "<>:4: SyntaxWarning: \"is not\" with a literal. Did you mean \"!=\"?\n",
            "<ipython-input-85-8877d2631c54>:4: SyntaxWarning: \"is not\" with a literal. Did you mean \"!=\"?\n",
            "  list1 = [word for word in token_list if word not in stop_words and word is not 'br']\n"
          ]
        }
      ]
    },
    {
      "cell_type": "code",
      "source": [
        "df['review_body'] = df['review_body'].apply(remove_stopwords)"
      ],
      "metadata": {
        "id": "Jtj9bvX6Z2jy"
      },
      "execution_count": 86,
      "outputs": []
    },
    {
      "cell_type": "code",
      "source": [
        "from nltk.sentiment import SentimentIntensityAnalyzer\n",
        "nltk.download('vader_lexicon')"
      ],
      "metadata": {
        "colab": {
          "base_uri": "https://localhost:8080/"
        },
        "id": "tdBM_N0bZ6WR",
        "outputId": "34e4db63-eeba-4643-d018-205b4617ba80"
      },
      "execution_count": 87,
      "outputs": [
        {
          "output_type": "stream",
          "name": "stderr",
          "text": [
            "[nltk_data] Downloading package vader_lexicon to /root/nltk_data...\n",
            "[nltk_data]   Package vader_lexicon is already up-to-date!\n"
          ]
        },
        {
          "output_type": "execute_result",
          "data": {
            "text/plain": [
              "True"
            ]
          },
          "metadata": {},
          "execution_count": 87
        }
      ]
    },
    {
      "cell_type": "code",
      "source": [
        "def sentiment_labels(para):\n",
        "  sid = SentimentIntensityAnalyzer()\n",
        "  sentiment_scores = sid.polarity_scores(para)\n",
        "  if sentiment_scores['compound'] >0:\n",
        "    sentiment = 'Positive'\n",
        "  elif sentiment_scores['compound']<0:\n",
        "    sentiment = 'Negative'\n",
        "  else:\n",
        "    sentiment = 'Neutral'\n",
        "  return sentiment"
      ],
      "metadata": {
        "id": "uXxn0K9paDSX"
      },
      "execution_count": 88,
      "outputs": []
    },
    {
      "cell_type": "code",
      "source": [
        "df['labels'] = df['review_body'].apply(sentiment_labels)"
      ],
      "metadata": {
        "id": "Z6FQjHZSaKVo"
      },
      "execution_count": 89,
      "outputs": []
    },
    {
      "cell_type": "code",
      "source": [
        "def product_comments(pid):\n",
        "  comment=''\n",
        "  count_negative = len(df[(df['product_id']==pid) & (df['labels']=='Negative')])\n",
        "  count_positive = len(df[(df['product_id']==pid) & (df['labels']=='Positive')])\n",
        "  count_neutral = len(df[(df['product_id']==pid) & (df['labels']=='Neutral')])\n",
        "  if count_negative ==0 and count_positive > 0:\n",
        "    comment = \"good enough\"\n",
        "  elif count_negative !=0:\n",
        "    if count_positive/count_negative < 1:\n",
        "      comment = \"needs improvement\"\n",
        "    else:\n",
        "      comment = \"good enough\"\n",
        "  elif count_neutral > 0:\n",
        "    comment = \"OK\"\n",
        "  return comment"
      ],
      "metadata": {
        "id": "6g6hEwB0dMxQ"
      },
      "execution_count": 92,
      "outputs": []
    },
    {
      "cell_type": "code",
      "source": [
        "df['product_comments'] = df['product_id'].apply(product_comments)"
      ],
      "metadata": {
        "id": "dTfm6z8IZ9_U"
      },
      "execution_count": 93,
      "outputs": []
    },
    {
      "cell_type": "code",
      "source": [
        "df['product_comments'].value_counts()"
      ],
      "metadata": {
        "colab": {
          "base_uri": "https://localhost:8080/"
        },
        "id": "e0o0Aptcab1Y",
        "outputId": "1c1dc4ce-730b-438b-80da-8b6a93cbaa01"
      },
      "execution_count": 94,
      "outputs": [
        {
          "output_type": "execute_result",
          "data": {
            "text/plain": [
              "good enough          5813\n",
              "needs improvement     510\n",
              "OK                    428\n",
              "Name: product_comments, dtype: int64"
            ]
          },
          "metadata": {},
          "execution_count": 94
        }
      ]
    },
    {
      "cell_type": "code",
      "source": [
        "#B0039BPG1A\n",
        "pid = input(\"Enter a product id for which you want to get recommendations of other products\")\n",
        "customer_list = df[(df['product_id']==pid) & (df['labels']== 'Positive') ]['customer_id'] #all customers who gave positive review about chosen product\n",
        "recommended_list=[]\n",
        "for cust in customer_list:\n",
        "  recommended_list.extend(list(df[(df['customer_id']==cust) & (df['product_id']!=pid) &  (df['labels']== 'Positive')]['product_title']))\n",
        "recommended_list = list(set(recommended_list))"
      ],
      "metadata": {
        "colab": {
          "base_uri": "https://localhost:8080/"
        },
        "id": "4s5BnRBjSA12",
        "outputId": "5f5bd362-5427-4f06-cb6e-47a610a8f54c"
      },
      "execution_count": 95,
      "outputs": [
        {
          "name": "stdout",
          "output_type": "stream",
          "text": [
            "Enter a product id for which you want to get recommendations of other productsB0039BPG1A\n"
          ]
        }
      ]
    },
    {
      "cell_type": "code",
      "source": [
        "print(\"Your product recommendation list = \")\n",
        "print(recommended_list)"
      ],
      "metadata": {
        "colab": {
          "base_uri": "https://localhost:8080/"
        },
        "id": "cR-cTErET85K",
        "outputId": "3cc7f36e-c9dc-4973-ebef-a2abfaf2d01c"
      },
      "execution_count": 96,
      "outputs": [
        {
          "output_type": "stream",
          "name": "stdout",
          "text": [
            "Your product recommendation list = \n",
            "['Canon SX40 HS 12.1MP Digital Camera with 35x Wide Angle Optical Image Stabilized Zoom and 2.7-Inch Vari-Angle Wide LCD', 'Power2000 1200Mah Lithium Battery Replacement For Canon NB-10L Battery (For Canon G15, G16, SX40 HS, SX50 HS, and SX60 HS Digital Cameras)', 'a3000 parent', 'GoPro Rechargeable Battery 2.0 (HERO3/HERO3+ only)', 'GoPro Dual Battery Charger for Hero 3 and Hero 3+', 'Nikon Coolpix L330 Digital Camera (Black)', 'Maximalpower NB 7L Battery', 'Canon SX30IS 14.1MP Digital Camera with 35x Wide Angle Optical Image Stabilized Zoom and 2.7 Inch Wide LCD (OLD MODEL)', 'Premium NB-7L Digital Camera Battery Rapid Charger with Car Adapter for Canon Advanced PowerShot G10', 'XCSOURCE® 6 in 1 Bundle Set Kit Suction Cup + Head Strap + Chest Strap + Yellow Hand Grip Floating Mount + Strap + Screws For Gopro Hero 1 2 3 3+ Camera OS60', 'Neewer Suction Cup Mount + Tripod Mount + Handle Screw for GoPro Hero Session/5 Hero 1 2 3 3+ 4 5 SJ4000 5000 6000 DBPOWER AKASO VicTsing APEMAN WiMiUS Rollei QUMOX Lightdow Campark and More', 'PicPro Flexible Tripod – Our #1 Flexible Tripod - The Original, Amazingly Lightweight, Portable and Durable, with Flexible Legs, Strong Mount and Compact Design – for Digital Cameras, Smartphones, Video Recorders & DSLR (Black, 10.5 Inches, ¼‘‘ Screw)']\n"
          ]
        }
      ]
    }
  ]
}